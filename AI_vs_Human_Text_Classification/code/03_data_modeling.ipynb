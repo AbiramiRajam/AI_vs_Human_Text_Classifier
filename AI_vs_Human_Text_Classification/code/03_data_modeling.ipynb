{
 "cells": [
  {
   "cell_type": "code",
   "execution_count": 1,
   "id": "741770c5-6ea2-4ab6-a9d6-95c6a9e0dc44",
   "metadata": {},
   "outputs": [],
   "source": [
    "\n",
    "#Data Modeling!\n"
   ]
  },
  {
   "cell_type": "code",
   "execution_count": 2,
   "id": "391854e9-e578-4245-bbba-85f8e9a0c90d",
   "metadata": {},
   "outputs": [],
   "source": [
    "\n",
    "import pandas as pd\n",
    "import warnings\n",
    "warnings.filterwarnings(\"ignore\")\n",
    "from sklearn.feature_extraction.text import TfidfVectorizer\n",
    "from sklearn.model_selection import train_test_split\n",
    "from sklearn.naive_bayes import MultinomialNB\n",
    "from sklearn.linear_model import LogisticRegression\n",
    "from sklearn.metrics import confusion_matrix\n",
    "import seaborn as sns\n",
    "import matplotlib.pyplot as plt\n",
    "from sklearn.metrics import accuracy_score, classification_report, confusion_matrix\n",
    "from sklearn.metrics import roc_curve, roc_auc_score\n",
    "from sklearn.model_selection import cross_val_score\n",
    "from sklearn.naive_bayes import MultinomialNB\n",
    "import joblib\n"
   ]
  },
  {
   "cell_type": "code",
   "execution_count": 3,
   "id": "fa269954-6392-49c6-82e4-d80f5b6f2a5a",
   "metadata": {},
   "outputs": [
    {
     "name": "stdout",
     "output_type": "stream",
     "text": [
      "<class 'pandas.core.frame.DataFrame'>\n",
      "RangeIndex: 1299 entries, 0 to 1298\n",
      "Data columns (total 8 columns):\n",
      " #   Column               Non-Null Count  Dtype  \n",
      "---  ------               --------------  -----  \n",
      " 0   Unnamed: 0           1299 non-null   int64  \n",
      " 1   id                   1299 non-null   int64  \n",
      " 2   text                 1299 non-null   object \n",
      " 3   label                1299 non-null   object \n",
      " 4   word_count           1299 non-null   int64  \n",
      " 5   char_count           1299 non-null   int64  \n",
      " 6   avg_word_length      1299 non-null   float64\n",
      " 7   punctuation_density  1299 non-null   float64\n",
      "dtypes: float64(2), int64(4), object(2)\n",
      "memory usage: 81.3+ KB\n"
     ]
    },
    {
     "data": {
      "text/plain": [
       "array(['human', 'ai'], dtype=object)"
      ]
     },
     "execution_count": 3,
     "metadata": {},
     "output_type": "execute_result"
    }
   ],
   "source": [
    "\n",
    "df = pd.read_csv('../data/kaggle_dataset.csv')\n",
    "df.info()\n",
    "df['label'].unique()\n"
   ]
  },
  {
   "cell_type": "code",
   "execution_count": 4,
   "id": "05a26902-a3c4-4cf8-b200-8d4855641b72",
   "metadata": {},
   "outputs": [
    {
     "name": "stdout",
     "output_type": "stream",
     "text": [
      "      Unnamed: 0    id                                               text  \\\n",
      "0              0     1        It always seems impossible until it's done.   \n",
      "1              1     2     She finished the challenging crossword puzzle.   \n",
      "2              2     3  You can't use up creativity. The more you use,...   \n",
      "3              3     4  The journey of a thousand miles begins with a ...   \n",
      "4              4     5  Life is short, and it is up to you to make it ...   \n",
      "...          ...   ...                                                ...   \n",
      "1294        1294  1295  The smart thermostat adjusted the temperature ...   \n",
      "1295        1295  1296               Do your homework before watching TV.   \n",
      "1296        1296  1297                 Life is a long lesson in humility.   \n",
      "1297        1297  1298  The neural network learned to recognize differ...   \n",
      "1298        1298  1299        The AI composed a melody based on her mood.   \n",
      "\n",
      "      label  word_count  char_count  avg_word_length  punctuation_density  \n",
      "0         1           7          43         5.285714             0.142857  \n",
      "1         0           6          46         6.833333             0.166667  \n",
      "2         1          13          65         4.076923             0.307692  \n",
      "3         1          11          58         4.363636             0.090909  \n",
      "4         1          13          52         3.076923             0.153846  \n",
      "...     ...         ...         ...              ...                  ...  \n",
      "1294      0           7          60         7.714286             0.142857  \n",
      "1295      1           6          36         5.166667             0.166667  \n",
      "1296      1           7          34         4.000000             0.142857  \n",
      "1297      0           8          58         6.375000             0.125000  \n",
      "1298      0           9          43         3.888889             0.111111  \n",
      "\n",
      "[1299 rows x 8 columns]\n"
     ]
    }
   ],
   "source": [
    "\n",
    "#convert text labels to numeric labels\n",
    "df['label'] = df['label'].replace({'human': 1, 'ai': 0})\n",
    "print(df)\n"
   ]
  },
  {
   "cell_type": "code",
   "execution_count": 5,
   "id": "24eb97da-254f-47d8-b007-ecfdeaa1ce27",
   "metadata": {},
   "outputs": [
    {
     "name": "stdout",
     "output_type": "stream",
     "text": [
      "Accuracy Score for Baseline Model: 0.95\n"
     ]
    }
   ],
   "source": [
    "\n",
    "# 1. Extract features and labels\n",
    "X_text = df['text']         # <-- This is your raw text column\n",
    "y = df['label']             # <-- This is your label column (0 = Human, 1 = AI)\n",
    "\n",
    "# 2. Train-test split (both text and labels)\n",
    "X_train_text, X_test_text, y_train, y_test = train_test_split(\n",
    "    X_text, y, test_size=0.2, random_state=42\n",
    ")\n",
    "\n",
    "# 3. Vectorize the text\n",
    "vectorizer = TfidfVectorizer()\n",
    "X_train = vectorizer.fit_transform(X_train_text)\n",
    "X_test = vectorizer.transform(X_test_text)\n",
    "\n",
    "# 4. Base Model\n",
    "\n",
    "# Base Model Logistic Regression model\n",
    "model_lr = LogisticRegression()\n",
    "model_lr.fit(X_train, y_train)\n",
    "\n",
    "# 5. Predict\n",
    "y_pred_lr = model_lr.predict(X_test)\n",
    "\n",
    "# 6. Calculate the accuracy\n",
    "accuracy = accuracy_score(y_test, y_pred_lr)\n",
    "\n",
    "print(f\"Accuracy Score for Baseline Model: {accuracy:.2f}\")\n"
   ]
  },
  {
   "cell_type": "code",
   "execution_count": 6,
   "id": "cfae89de-f316-418b-a799-deae09b7b779",
   "metadata": {},
   "outputs": [
    {
     "name": "stdout",
     "output_type": "stream",
     "text": [
      "Accuracy Score for Baseline Model: 0.97\n"
     ]
    },
    {
     "data": {
      "text/html": [
       "<div>\n",
       "<style scoped>\n",
       "    .dataframe tbody tr th:only-of-type {\n",
       "        vertical-align: middle;\n",
       "    }\n",
       "\n",
       "    .dataframe tbody tr th {\n",
       "        vertical-align: top;\n",
       "    }\n",
       "\n",
       "    .dataframe thead th {\n",
       "        text-align: right;\n",
       "    }\n",
       "</style>\n",
       "<table border=\"1\" class=\"dataframe\">\n",
       "  <thead>\n",
       "    <tr style=\"text-align: right;\">\n",
       "      <th></th>\n",
       "      <th>Text</th>\n",
       "      <th>Actual Label</th>\n",
       "      <th>Predicted Label</th>\n",
       "    </tr>\n",
       "  </thead>\n",
       "  <tbody>\n",
       "    <tr>\n",
       "      <th>0</th>\n",
       "      <td>The old library had an atmosphere of mystery a...</td>\n",
       "      <td>1</td>\n",
       "      <td>0</td>\n",
       "    </tr>\n",
       "    <tr>\n",
       "      <th>1</th>\n",
       "      <td>The intelligent transportation system optimize...</td>\n",
       "      <td>1</td>\n",
       "      <td>1</td>\n",
       "    </tr>\n",
       "    <tr>\n",
       "      <th>2</th>\n",
       "      <td>Finish your breakfast before leaving.</td>\n",
       "      <td>0</td>\n",
       "      <td>0</td>\n",
       "    </tr>\n",
       "    <tr>\n",
       "      <th>3</th>\n",
       "      <td>The automated factory produced a car from star...</td>\n",
       "      <td>1</td>\n",
       "      <td>1</td>\n",
       "    </tr>\n",
       "    <tr>\n",
       "      <th>4</th>\n",
       "      <td>The police officer directed traffic at the bus...</td>\n",
       "      <td>1</td>\n",
       "      <td>1</td>\n",
       "    </tr>\n",
       "    <tr>\n",
       "      <th>...</th>\n",
       "      <td>...</td>\n",
       "      <td>...</td>\n",
       "      <td>...</td>\n",
       "    </tr>\n",
       "    <tr>\n",
       "      <th>255</th>\n",
       "      <td>It does not do to dwell on dreams and forget t...</td>\n",
       "      <td>0</td>\n",
       "      <td>0</td>\n",
       "    </tr>\n",
       "    <tr>\n",
       "      <th>256</th>\n",
       "      <td>The intelligent lighting system adjusted to am...</td>\n",
       "      <td>1</td>\n",
       "      <td>1</td>\n",
       "    </tr>\n",
       "    <tr>\n",
       "      <th>257</th>\n",
       "      <td>Nothing is impossible, the word itself says 'I...</td>\n",
       "      <td>0</td>\n",
       "      <td>0</td>\n",
       "    </tr>\n",
       "    <tr>\n",
       "      <th>258</th>\n",
       "      <td>The cat stared at the closed door, waiting pat...</td>\n",
       "      <td>1</td>\n",
       "      <td>1</td>\n",
       "    </tr>\n",
       "    <tr>\n",
       "      <th>259</th>\n",
       "      <td>The purpose of our lives is to be happy.</td>\n",
       "      <td>0</td>\n",
       "      <td>0</td>\n",
       "    </tr>\n",
       "  </tbody>\n",
       "</table>\n",
       "<p>260 rows × 3 columns</p>\n",
       "</div>"
      ],
      "text/plain": [
       "                                                  Text  Actual Label  \\\n",
       "0    The old library had an atmosphere of mystery a...             1   \n",
       "1    The intelligent transportation system optimize...             1   \n",
       "2                Finish your breakfast before leaving.             0   \n",
       "3    The automated factory produced a car from star...             1   \n",
       "4    The police officer directed traffic at the bus...             1   \n",
       "..                                                 ...           ...   \n",
       "255  It does not do to dwell on dreams and forget t...             0   \n",
       "256  The intelligent lighting system adjusted to am...             1   \n",
       "257  Nothing is impossible, the word itself says 'I...             0   \n",
       "258  The cat stared at the closed door, waiting pat...             1   \n",
       "259           The purpose of our lives is to be happy.             0   \n",
       "\n",
       "     Predicted Label  \n",
       "0                  0  \n",
       "1                  1  \n",
       "2                  0  \n",
       "3                  1  \n",
       "4                  1  \n",
       "..               ...  \n",
       "255                0  \n",
       "256                1  \n",
       "257                0  \n",
       "258                1  \n",
       "259                0  \n",
       "\n",
       "[260 rows x 3 columns]"
      ]
     },
     "execution_count": 6,
     "metadata": {},
     "output_type": "execute_result"
    }
   ],
   "source": [
    "\n",
    "#Model Evaluation!\n",
    "\n",
    "# 1. Train the Naive Bayes model\n",
    "model_nb = MultinomialNB()\n",
    "model_nb.fit(X_train, y_train)\n",
    "\n",
    "# 2. Predict\n",
    "y_pred_nb = model_nb.predict(X_test)\n",
    "\n",
    "# 3. Calculate the accuracy\n",
    "accuracy = accuracy_score(y_test, y_pred_nb)\n",
    "\n",
    "print(f\"Accuracy Score for Baseline Model: {accuracy:.2f}\")\n",
    "\n",
    "# 4. Create a DataFrame to display results\n",
    "results_df = pd.DataFrame({\n",
    "    'Text': X_test_text.values,        # <-- raw test text\n",
    "    'Actual Label': y_test.values,     # <-- true label\n",
    "    'Predicted Label': y_pred_nb       # <-- predicted label\n",
    "})\n",
    "\n",
    "# 5. Convert numeric labels to human-readable format\n",
    "label_map = df['label'] \n",
    "results_df['Actual Label'] = results_df['Actual Label'].map(label_map)\n",
    "results_df['Predicted Label'] = results_df['Predicted Label'].map(label_map)\n",
    "\n",
    "# 6. Display first 10 rows\n",
    "results_df\n"
   ]
  },
  {
   "cell_type": "code",
   "execution_count": 7,
   "id": "234b8551-6e6e-40de-ad52-c70391a46957",
   "metadata": {},
   "outputs": [
    {
     "name": "stdout",
     "output_type": "stream",
     "text": [
      "All Wrongly Predicted Text:\n"
     ]
    },
    {
     "data": {
      "text/html": [
       "<div>\n",
       "<style scoped>\n",
       "    .dataframe tbody tr th:only-of-type {\n",
       "        vertical-align: middle;\n",
       "    }\n",
       "\n",
       "    .dataframe tbody tr th {\n",
       "        vertical-align: top;\n",
       "    }\n",
       "\n",
       "    .dataframe thead th {\n",
       "        text-align: right;\n",
       "    }\n",
       "</style>\n",
       "<table border=\"1\" class=\"dataframe\">\n",
       "  <thead>\n",
       "    <tr style=\"text-align: right;\">\n",
       "      <th></th>\n",
       "      <th>Text</th>\n",
       "      <th>Actual Label</th>\n",
       "      <th>Predicted Label</th>\n",
       "    </tr>\n",
       "  </thead>\n",
       "  <tbody>\n",
       "    <tr>\n",
       "      <th>0</th>\n",
       "      <td>The old library had an atmosphere of mystery a...</td>\n",
       "      <td>1</td>\n",
       "      <td>0</td>\n",
       "    </tr>\n",
       "    <tr>\n",
       "      <th>11</th>\n",
       "      <td>The greatest trick the Devil ever pulled was c...</td>\n",
       "      <td>0</td>\n",
       "      <td>1</td>\n",
       "    </tr>\n",
       "    <tr>\n",
       "      <th>62</th>\n",
       "      <td>He tried to hide his excitement, but his smile...</td>\n",
       "      <td>1</td>\n",
       "      <td>0</td>\n",
       "    </tr>\n",
       "    <tr>\n",
       "      <th>93</th>\n",
       "      <td>The bookend kept the row of novels upright.</td>\n",
       "      <td>1</td>\n",
       "      <td>0</td>\n",
       "    </tr>\n",
       "    <tr>\n",
       "      <th>127</th>\n",
       "      <td>I enjoy learning new skills, even if I fail at...</td>\n",
       "      <td>1</td>\n",
       "      <td>0</td>\n",
       "    </tr>\n",
       "    <tr>\n",
       "      <th>134</th>\n",
       "      <td>History often repeats itself in surprising ways.</td>\n",
       "      <td>1</td>\n",
       "      <td>0</td>\n",
       "    </tr>\n",
       "    <tr>\n",
       "      <th>168</th>\n",
       "      <td>The trash can was nearly full.</td>\n",
       "      <td>1</td>\n",
       "      <td>0</td>\n",
       "    </tr>\n",
       "    <tr>\n",
       "      <th>177</th>\n",
       "      <td>Innovation distinguishes between a leader and ...</td>\n",
       "      <td>0</td>\n",
       "      <td>1</td>\n",
       "    </tr>\n",
       "    <tr>\n",
       "      <th>194</th>\n",
       "      <td>Cloud computing has made storage more accessib...</td>\n",
       "      <td>1</td>\n",
       "      <td>0</td>\n",
       "    </tr>\n",
       "  </tbody>\n",
       "</table>\n",
       "</div>"
      ],
      "text/plain": [
       "                                                  Text  Actual Label  \\\n",
       "0    The old library had an atmosphere of mystery a...             1   \n",
       "11   The greatest trick the Devil ever pulled was c...             0   \n",
       "62   He tried to hide his excitement, but his smile...             1   \n",
       "93         The bookend kept the row of novels upright.             1   \n",
       "127  I enjoy learning new skills, even if I fail at...             1   \n",
       "134   History often repeats itself in surprising ways.             1   \n",
       "168                     The trash can was nearly full.             1   \n",
       "177  Innovation distinguishes between a leader and ...             0   \n",
       "194  Cloud computing has made storage more accessib...             1   \n",
       "\n",
       "     Predicted Label  \n",
       "0                  0  \n",
       "11                 1  \n",
       "62                 0  \n",
       "93                 0  \n",
       "127                0  \n",
       "134                0  \n",
       "168                0  \n",
       "177                1  \n",
       "194                0  "
      ]
     },
     "execution_count": 7,
     "metadata": {},
     "output_type": "execute_result"
    }
   ],
   "source": [
    "\n",
    "# checks for wrong predictions\n",
    "wrong_predictions = results_df[results_df['Actual Label'] != results_df['Predicted Label']]\n",
    "\n",
    "# Display wrongly predicted rows\n",
    "print(\"All Wrongly Predicted Text:\")\n",
    "wrong_predictions[['Text', 'Actual Label', 'Predicted Label']]\n"
   ]
  },
  {
   "cell_type": "code",
   "execution_count": 8,
   "id": "de0b7f23-b3a5-44f6-8856-61ad1be7dfbd",
   "metadata": {},
   "outputs": [
    {
     "name": "stdout",
     "output_type": "stream",
     "text": [
      "Confusion Matrix:\n",
      " [[124   7]\n",
      " [  2 127]]\n",
      "\n",
      "Classification Report:\n",
      "               precision    recall  f1-score   support\n",
      "\n",
      "           0       0.98      0.95      0.96       131\n",
      "           1       0.95      0.98      0.97       129\n",
      "\n",
      "    accuracy                           0.97       260\n",
      "   macro avg       0.97      0.97      0.97       260\n",
      "weighted avg       0.97      0.97      0.97       260\n",
      "\n"
     ]
    }
   ],
   "source": [
    "\n",
    "# Get the confusion matrix\n",
    "cm = confusion_matrix(y_test, y_pred_nb)\n",
    "print(\"Confusion Matrix:\\n\", cm)\n",
    "\n",
    "# Get a full classification report\n",
    "report = classification_report(y_test, y_pred_nb)\n",
    "print(\"\\nClassification Report:\\n\", report)\n"
   ]
  },
  {
   "cell_type": "code",
   "execution_count": null,
   "id": "2327f9ed-f95a-417e-b78a-705506c5811b",
   "metadata": {},
   "outputs": [],
   "source": []
  },
  {
   "cell_type": "markdown",
   "id": "a5ac3acb-53c5-4234-a957-0f34b35db8c8",
   "metadata": {},
   "source": [
    "## Summary\n",
    "\n",
    "The classification model demonstrates strong overall performance, achieving an **accuracy of 97%** on the test dataset. The confusion matrix indicates that the model correctly classified most instances of both classes, with only **9 misclassifications out of 260 total samples**.\n",
    "\n",
    "- **Class 0** shows a **precision of 0.98** and a **recall of 0.95**, indicating that while the model is very accurate in predicting class 0, a few actual class 0 instances were misclassified.\n",
    "- **Class 1** exhibits a **precision of 0.95** and a **recall of 0.98**, meaning the model captures nearly all actual class 1 instances, with very few false positives.\n",
    "\n",
    "Both the **macro** and **weighted averages** for precision, recall, and F1-score are **0.97**, reflecting balanced performance across the two classes. These results suggest that the model generalizes well and performs reliably across both categories.\n",
    "\n",
    "- It was especially good at identifying both types of cases, with only a small number of errors.\n",
    "- Overall, the model is accurate, reliable, and balanced in its decisions.\n",
    "\n",
    "These results show that the model can be trusted to make correct predictions most of the time.\n",
    "\n"
   ]
  },
  {
   "cell_type": "markdown",
   "id": "3f204394-ea7d-423f-9848-202d3ea0c4c0",
   "metadata": {},
   "source": []
  },
  {
   "cell_type": "code",
   "execution_count": 9,
   "id": "da9ace0e-f1d9-41aa-b237-9354e15bea6e",
   "metadata": {},
   "outputs": [
    {
     "data": {
      "image/png": "[encoded data removed]",
      "text/plain": [
       "<Figure size 1000x600 with 2 Axes>"
      ]
     },
     "metadata": {},
     "output_type": "display_data"
    }
   ],
   "source": [
    "\n",
    "#visualize confusion matrix\n",
    "cm = confusion_matrix(y_test, y_pred_nb)\n",
    "plt.figure(figsize=(10, 6))\n",
    "sns.heatmap(cm, annot=True, fmt='d', cmap='Blues')\n",
    "plt.title('Confusion Matrix')\n",
    "plt.xlabel('Predicted')\n",
    "plt.ylabel('Actual')\n",
    "plt.show()\n"
   ]
  },
  {
   "cell_type": "code",
   "execution_count": 10,
   "id": "2f96bc8c-da53-494c-9e5b-837f10c04dd2",
   "metadata": {},
   "outputs": [
    {
     "data": {
      "image/png": "[encoded data removed]",
      "text/plain": [
       "<Figure size 1000x600 with 1 Axes>"
      ]
     },
     "metadata": {},
     "output_type": "display_data"
    }
   ],
   "source": [
    "\n",
    "#ROC Curve\n",
    "y_prob_nb = model_nb.predict_proba(X_test)[:, 1]\n",
    "fpr, tpr, _ = roc_curve(y_test, y_prob_nb)\n",
    "auc = roc_auc_score(y_test, y_prob_nb)\n",
    "plt.figure(figsize=(10, 6))\n",
    "plt.plot(fpr, tpr, label=f'Naive Bayes (AUC = {auc:.2f})')\n",
    "plt.plot([0, 1], [0, 1], 'k--')\n",
    "plt.title('ROC Curve')\n",
    "plt.xlabel('False Positive Rate')\n",
    "plt.ylabel('True Positive Rate')\n",
    "plt.legend(loc='lower right')\n",
    "plt.show()\n"
   ]
  },
  {
   "cell_type": "code",
   "execution_count": 11,
   "id": "99946240-6972-43ca-81e4-e60e0e93de04",
   "metadata": {},
   "outputs": [
    {
     "data": {
      "text/plain": [
       "['tfidf_vectorizer.pkl']"
      ]
     },
     "execution_count": 11,
     "metadata": {},
     "output_type": "execute_result"
    }
   ],
   "source": [
    "\n",
    "\n",
    "# Save the model and vectorizer\n",
    "joblib.dump(model_nb, 'nb_model.pkl')\n",
    "joblib.dump(vectorizer, 'tfidf_vectorizer.pkl')\n"
   ]
  },
  {
   "cell_type": "code",
   "execution_count": null,
   "id": "be6eb914-e870-44d2-ba8a-0c7e078fadee",
   "metadata": {},
   "outputs": [],
   "source": []
  },
  {
   "cell_type": "code",
   "execution_count": null,
   "id": "14fef1d6-5d47-44ee-a44e-0d9839de0af3",
   "metadata": {},
   "outputs": [],
   "source": []
  },
  {
   "cell_type": "code",
   "execution_count": null,
   "id": "f91ba824-7afc-4541-8857-50d68f65c113",
   "metadata": {},
   "outputs": [],
   "source": []
  }
 ],
 "metadata": {
  "kernelspec": {
   "display_name": "Python 3 (ipykernel)",
   "language": "python",
   "name": "python3"
  },
  "language_info": {
   "codemirror_mode": {
    "name": "ipython",
    "version": 3
   },
   "file_extension": ".py",
   "mimetype": "text/x-python",
   "name": "python",
   "nbconvert_exporter": "python",
   "pygments_lexer": "ipython3",
   "version": "3.12.7"
  }
 },
 "nbformat": 4,
 "nbformat_minor": 5
}

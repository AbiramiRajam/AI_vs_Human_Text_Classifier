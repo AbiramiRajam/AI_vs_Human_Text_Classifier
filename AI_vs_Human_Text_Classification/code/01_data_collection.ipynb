{
 "cells": [
  {
   "cell_type": "markdown",
   "id": "3011afc5-9f3b-4cee-a01c-ef87905cce37",
   "metadata": {},
   "source": [
    "# AI vs. Human Text Classification\n",
    "\n",
    "This project builds a machine learning model to distinguish between text written by **humans** and **AI (e.g., ChatGPT)** using the Kaggle [AI vs Human Text](https://www.kaggle.com/datasets/shanegerami/ai-vs-human-text/data) dataset.\n",
    "\n",
    "---\n"
   ]
  },
  {
   "cell_type": "code",
   "execution_count": 2,
   "id": "cac25afd-1234-4e96-b45a-71a7a8705ea0",
   "metadata": {},
   "outputs": [],
   "source": [
    "\n",
    "#!pip install kaggle\n"
   ]
  },
  {
   "cell_type": "code",
   "execution_count": 51,
   "id": "ac0c90f2-a458-4e3d-88dd-8c35bfaf9ece",
   "metadata": {},
   "outputs": [
    {
     "name": "stdout",
     "output_type": "stream",
     "text": [
      "Requirement already satisfied: kagglehub in /opt/anaconda3/lib/python3.12/site-packages (0.3.13)\n",
      "Requirement already satisfied: packaging in /opt/anaconda3/lib/python3.12/site-packages (from kagglehub) (24.1)\n",
      "Requirement already satisfied: pyyaml in /opt/anaconda3/lib/python3.12/site-packages (from kagglehub) (6.0.1)\n",
      "Requirement already satisfied: requests in /opt/anaconda3/lib/python3.12/site-packages (from kagglehub) (2.32.3)\n",
      "Requirement already satisfied: tqdm in /opt/anaconda3/lib/python3.12/site-packages (from kagglehub) (4.66.5)\n",
      "Requirement already satisfied: charset-normalizer<4,>=2 in /opt/anaconda3/lib/python3.12/site-packages (from requests->kagglehub) (3.3.2)\n",
      "Requirement already satisfied: idna<4,>=2.5 in /opt/anaconda3/lib/python3.12/site-packages (from requests->kagglehub) (3.7)\n",
      "Requirement already satisfied: urllib3<3,>=1.21.1 in /opt/anaconda3/lib/python3.12/site-packages (from requests->kagglehub) (2.2.3)\n",
      "Requirement already satisfied: certifi>=2017.4.17 in /opt/anaconda3/lib/python3.12/site-packages (from requests->kagglehub) (2025.1.31)\n",
      "\n",
      "\u001b[1m[\u001b[0m\u001b[34;49mnotice\u001b[0m\u001b[1;39;49m]\u001b[0m\u001b[39;49m A new release of pip is available: \u001b[0m\u001b[31;49m25.0.1\u001b[0m\u001b[39;49m -> \u001b[0m\u001b[32;49m25.2\u001b[0m\n",
      "\u001b[1m[\u001b[0m\u001b[34;49mnotice\u001b[0m\u001b[1;39;49m]\u001b[0m\u001b[39;49m To update, run: \u001b[0m\u001b[32;49mpip install --upgrade pip\u001b[0m\n"
     ]
    }
   ],
   "source": [
    "\n",
    "#!pip install kagglehub\n"
   ]
  },
  {
   "cell_type": "code",
   "execution_count": 1,
   "id": "8f55b99b-3702-4e7a-8b4c-68920e9bfa2b",
   "metadata": {},
   "outputs": [],
   "source": [
    "\n",
    "import warnings\n",
    "warnings.filterwarnings(\"ignore\")\n",
    "import pandas as pd\n",
    "import kagglehub\n",
    "from kagglehub import KaggleDatasetAdapter\n"
   ]
  },
  {
   "cell_type": "code",
   "execution_count": 2,
   "id": "fd1fb177-9e25-4119-9ad4-24ce97cd5fbc",
   "metadata": {},
   "outputs": [],
   "source": [
    "\n",
    "# local computer filepath\n",
    "custom_kaggle_json_path = \"/****/kaggle_api.json\"  \n"
   ]
  },
  {
   "cell_type": "code",
   "execution_count": 3,
   "id": "5272e553-9fb8-40bf-a9d7-2f0c9c801d9d",
   "metadata": {},
   "outputs": [
    {
     "name": "stdout",
     "output_type": "stream",
     "text": [
      "First 5 records:    id                                               text  label  word_count  \\\n",
      "0   1        It always seems impossible until it's done.  human           7   \n",
      "1   2     She finished the challenging crossword puzzle.     ai           6   \n",
      "2   3  You can't use up creativity. The more you use,...  human          13   \n",
      "3   4  The journey of a thousand miles begins with a ...  human          11   \n",
      "4   5  Life is short, and it is up to you to make it ...  human          13   \n",
      "\n",
      "   char_count  avg_word_length  punctuation_density  \n",
      "0          43         5.285714             0.142857  \n",
      "1          46         6.833333             0.166667  \n",
      "2          65         4.076923             0.307692  \n",
      "3          58         4.363636             0.090909  \n",
      "4          52         3.076923             0.153846  \n"
     ]
    }
   ],
   "source": [
    "\n",
    "#code provided by kaggle website\n",
    "\n",
    "# file path\n",
    "file_path = \"ai_vs_human_text.csv\"\n",
    "\n",
    "# Load the latest version\n",
    "df = kagglehub.load_dataset(\n",
    "  KaggleDatasetAdapter.PANDAS,\n",
    "  \"gulfan/ai-vs-human-text-classification-dataset\",\n",
    "  file_path,\n",
    "\n",
    ")\n",
    "\n",
    "print(\"First 5 records:\", df.head())\n"
   ]
  },
  {
   "cell_type": "code",
   "execution_count": 4,
   "id": "6bc9a76a-e951-4bb4-958b-fa01e09e4bfa",
   "metadata": {},
   "outputs": [
    {
     "name": "stdout",
     "output_type": "stream",
     "text": [
      "<class 'pandas.core.frame.DataFrame'>\n",
      "RangeIndex: 1299 entries, 0 to 1298\n",
      "Data columns (total 7 columns):\n",
      " #   Column               Non-Null Count  Dtype  \n",
      "---  ------               --------------  -----  \n",
      " 0   id                   1299 non-null   int64  \n",
      " 1   text                 1299 non-null   object \n",
      " 2   label                1299 non-null   object \n",
      " 3   word_count           1299 non-null   int64  \n",
      " 4   char_count           1299 non-null   int64  \n",
      " 5   avg_word_length      1299 non-null   float64\n",
      " 6   punctuation_density  1299 non-null   float64\n",
      "dtypes: float64(2), int64(3), object(2)\n",
      "memory usage: 71.2+ KB\n"
     ]
    },
    {
     "data": {
      "text/html": [
       "<div>\n",
       "<style scoped>\n",
       "    .dataframe tbody tr th:only-of-type {\n",
       "        vertical-align: middle;\n",
       "    }\n",
       "\n",
       "    .dataframe tbody tr th {\n",
       "        vertical-align: top;\n",
       "    }\n",
       "\n",
       "    .dataframe thead th {\n",
       "        text-align: right;\n",
       "    }\n",
       "</style>\n",
       "<table border=\"1\" class=\"dataframe\">\n",
       "  <thead>\n",
       "    <tr style=\"text-align: right;\">\n",
       "      <th></th>\n",
       "      <th>id</th>\n",
       "      <th>text</th>\n",
       "      <th>label</th>\n",
       "      <th>word_count</th>\n",
       "      <th>char_count</th>\n",
       "      <th>avg_word_length</th>\n",
       "      <th>punctuation_density</th>\n",
       "    </tr>\n",
       "  </thead>\n",
       "  <tbody>\n",
       "    <tr>\n",
       "      <th>0</th>\n",
       "      <td>1</td>\n",
       "      <td>It always seems impossible until it's done.</td>\n",
       "      <td>human</td>\n",
       "      <td>7</td>\n",
       "      <td>43</td>\n",
       "      <td>5.285714</td>\n",
       "      <td>0.142857</td>\n",
       "    </tr>\n",
       "    <tr>\n",
       "      <th>1</th>\n",
       "      <td>2</td>\n",
       "      <td>She finished the challenging crossword puzzle.</td>\n",
       "      <td>ai</td>\n",
       "      <td>6</td>\n",
       "      <td>46</td>\n",
       "      <td>6.833333</td>\n",
       "      <td>0.166667</td>\n",
       "    </tr>\n",
       "    <tr>\n",
       "      <th>2</th>\n",
       "      <td>3</td>\n",
       "      <td>You can't use up creativity. The more you use,...</td>\n",
       "      <td>human</td>\n",
       "      <td>13</td>\n",
       "      <td>65</td>\n",
       "      <td>4.076923</td>\n",
       "      <td>0.307692</td>\n",
       "    </tr>\n",
       "    <tr>\n",
       "      <th>3</th>\n",
       "      <td>4</td>\n",
       "      <td>The journey of a thousand miles begins with a ...</td>\n",
       "      <td>human</td>\n",
       "      <td>11</td>\n",
       "      <td>58</td>\n",
       "      <td>4.363636</td>\n",
       "      <td>0.090909</td>\n",
       "    </tr>\n",
       "    <tr>\n",
       "      <th>4</th>\n",
       "      <td>5</td>\n",
       "      <td>Life is short, and it is up to you to make it ...</td>\n",
       "      <td>human</td>\n",
       "      <td>13</td>\n",
       "      <td>52</td>\n",
       "      <td>3.076923</td>\n",
       "      <td>0.153846</td>\n",
       "    </tr>\n",
       "  </tbody>\n",
       "</table>\n",
       "</div>"
      ],
      "text/plain": [
       "   id                                               text  label  word_count  \\\n",
       "0   1        It always seems impossible until it's done.  human           7   \n",
       "1   2     She finished the challenging crossword puzzle.     ai           6   \n",
       "2   3  You can't use up creativity. The more you use,...  human          13   \n",
       "3   4  The journey of a thousand miles begins with a ...  human          11   \n",
       "4   5  Life is short, and it is up to you to make it ...  human          13   \n",
       "\n",
       "   char_count  avg_word_length  punctuation_density  \n",
       "0          43         5.285714             0.142857  \n",
       "1          46         6.833333             0.166667  \n",
       "2          65         4.076923             0.307692  \n",
       "3          58         4.363636             0.090909  \n",
       "4          52         3.076923             0.153846  "
      ]
     },
     "execution_count": 4,
     "metadata": {},
     "output_type": "execute_result"
    }
   ],
   "source": [
    "\n",
    "#dataframe information and checks for sample dataset\n",
    "df.info()\n",
    "df.head()\n"
   ]
  },
  {
   "cell_type": "code",
   "execution_count": 5,
   "id": "0e719277-c4b1-492c-a6b2-62699841da13",
   "metadata": {},
   "outputs": [
    {
     "name": "stdout",
     "output_type": "stream",
     "text": [
      "<class 'pandas.core.frame.DataFrame'>\n",
      "RangeIndex: 1299 entries, 0 to 1298\n",
      "Data columns (total 7 columns):\n",
      " #   Column               Non-Null Count  Dtype  \n",
      "---  ------               --------------  -----  \n",
      " 0   id                   1299 non-null   int64  \n",
      " 1   text                 1299 non-null   object \n",
      " 2   label                1299 non-null   object \n",
      " 3   word_count           1299 non-null   int64  \n",
      " 4   char_count           1299 non-null   int64  \n",
      " 5   avg_word_length      1299 non-null   float64\n",
      " 6   punctuation_density  1299 non-null   float64\n",
      "dtypes: float64(2), int64(3), object(2)\n",
      "memory usage: 71.2+ KB\n"
     ]
    }
   ],
   "source": [
    "\n",
    "#save dataset\n",
    "\n",
    "df.to_csv('/***/kaggle_dataset.csv')\n",
    "\n",
    "df['label'].unique()\n",
    "\n",
    "df.info()\n"
   ]
  },
  {
   "cell_type": "code",
   "execution_count": null,
   "id": "05fbc304-dcaf-426f-b264-2aa14e438803",
   "metadata": {},
   "outputs": [],
   "source": []
  },
  {
   "cell_type": "code",
   "execution_count": null,
   "id": "80b43aa7-eccf-492d-9e20-d25aa668a601",
   "metadata": {},
   "outputs": [],
   "source": []
  },
  {
   "cell_type": "code",
   "execution_count": null,
   "id": "c9481167-c67c-49fb-8c3d-22f8f41ac01c",
   "metadata": {},
   "outputs": [],
   "source": []
  }
 ],
 "metadata": {
  "kernelspec": {
   "display_name": "Python 3 (ipykernel)",
   "language": "python",
   "name": "python3"
  },
  "language_info": {
   "codemirror_mode": {
    "name": "ipython",
    "version": 3
   },
   "file_extension": ".py",
   "mimetype": "text/x-python",
   "name": "python",
   "nbconvert_exporter": "python",
   "pygments_lexer": "ipython3",
   "version": "3.12.7"
  }
 },
 "nbformat": 4,
 "nbformat_minor": 5
}
